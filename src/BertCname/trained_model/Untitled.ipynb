{
 "cells": [
  {
   "cell_type": "code",
   "execution_count": 1,
   "metadata": {},
   "outputs": [],
   "source": [
    "from transformers import TFBertForSequenceClassification,BertTokenizer"
   ]
  },
  {
   "cell_type": "code",
   "execution_count": 2,
   "metadata": {},
   "outputs": [
    {
     "name": "stderr",
     "output_type": "stream",
     "text": [
      "All model checkpoint layers were used when initializing TFBertForSequenceClassification.\n",
      "\n",
      "All the layers of TFBertForSequenceClassification were initialized from the model checkpoint at model.\n",
      "If your task is similar to the task the model of the checkpoint was trained on, you can already use TFBertForSequenceClassification for predictions without further training.\n"
     ]
    }
   ],
   "source": [
    "model = TFBertForSequenceClassification.from_pretrained(\"model\")"
   ]
  },
  {
   "cell_type": "code",
   "execution_count": 3,
   "metadata": {},
   "outputs": [],
   "source": [
    "tokenizer = BertTokenizer.from_pretrained('tokenizer')"
   ]
  },
  {
   "cell_type": "code",
   "execution_count": 4,
   "metadata": {},
   "outputs": [],
   "source": [
    "import transformers"
   ]
  },
  {
   "cell_type": "code",
   "execution_count": 5,
   "metadata": {},
   "outputs": [
    {
     "data": {
      "text/plain": [
       "'4.9.2'"
      ]
     },
     "execution_count": 5,
     "metadata": {},
     "output_type": "execute_result"
    }
   ],
   "source": [
    "transformers.__version__"
   ]
  },
  {
   "cell_type": "code",
   "execution_count": 6,
   "metadata": {},
   "outputs": [],
   "source": [
    "from transformers import pipeline"
   ]
  },
  {
   "cell_type": "code",
   "execution_count": 7,
   "metadata": {},
   "outputs": [],
   "source": [
    "pipe = pipeline(model=model,tokenizer=tokenizer,task='sentiment-analysis')"
   ]
  },
  {
   "cell_type": "code",
   "execution_count": 8,
   "metadata": {},
   "outputs": [
    {
     "data": {
      "text/plain": [
       "[{'label': \"SEMOULES ET CEREALES D'ACCOMPAGNEMENT\",\n",
       "  'score': 0.4372882843017578}]"
      ]
     },
     "execution_count": 8,
     "metadata": {},
     "output_type": "execute_result"
    }
   ],
   "source": [
    "pipe('bla')"
   ]
  },
  {
   "cell_type": "code",
   "execution_count": 9,
   "metadata": {},
   "outputs": [
    {
     "data": {
      "text/plain": [
       "'4.9.2'"
      ]
     },
     "execution_count": 9,
     "metadata": {},
     "output_type": "execute_result"
    }
   ],
   "source": [
    "import transformers\n",
    "transformers.__version__"
   ]
  },
  {
   "cell_type": "code",
   "execution_count": 10,
   "metadata": {},
   "outputs": [
    {
     "data": {
      "text/plain": [
       "{0: 'CHEWING GUMS',\n",
       " 1: 'CONFISERIES DE CHOCOLAT',\n",
       " 2: 'BONBONS, SUCETTES ET CONFISERIE DE SUCRE',\n",
       " 3: 'BEERS',\n",
       " 4: 'WHISKY',\n",
       " 5: 'BISCUITS SECS',\n",
       " 6: 'BARRES CEREALIERES',\n",
       " 7: 'FRUITS SECS',\n",
       " 8: 'CONFITURES',\n",
       " 9: \"GATEAUX, ROULES, PAINS D'EPICES ET NONNETTES\",\n",
       " 10: 'GOUTERS',\n",
       " 11: 'CEREALES',\n",
       " 12: 'BISCUITS SALES',\n",
       " 13: 'MOUCHOIRS EN PAPIER',\n",
       " 14: 'PATES A TARTINER',\n",
       " 15: 'FRESH DESSERTS',\n",
       " 16: 'APRES SHAMPOOINGS ET SOINS',\n",
       " 17: 'SHAMPOOINGS',\n",
       " 18: 'NON DAIRY DRINKS AND CREAMS',\n",
       " 19: 'MIELS',\n",
       " 20: 'COOKIES',\n",
       " 21: 'EXTRUDES ET TUILES',\n",
       " 22: 'COFFRET DE TOILETTE',\n",
       " 23: 'SAVONS DE TOILETTE ET PAINS DERMATOLOGIQUES',\n",
       " 24: 'CREMES DE MARRONS',\n",
       " 25: 'COMPOTES APPERTISEES ET FRAICHES',\n",
       " 26: 'RHUMS',\n",
       " 27: 'AIDE A LA PATISSERIE',\n",
       " 28: 'VIENNOISERIES',\n",
       " 29: 'CHANGES ET COUCHES CULOTTES',\n",
       " 30: 'BISCUITS PATISSIERS',\n",
       " 31: 'BISCUITS CHOCOLAT ET FRUITS',\n",
       " 32: 'PRODUITS DEPILATOIRES',\n",
       " 33: 'HYGIENE BUCCALE ET BAINS DE BOUCHE',\n",
       " 34: 'EPILATEURS, LUMIERE PULSEE ETC',\n",
       " 35: 'TOASTS GALETTES ET CRACKERS',\n",
       " 36: 'DESODORISANTS',\n",
       " 37: 'BULK ICE CREAM AND SORBETS',\n",
       " 38: 'NETTOYANTS MENAGERS',\n",
       " 39: 'LESSIVES GENERALISTES',\n",
       " 40: 'PRODUIT VAISSELLE MAIN',\n",
       " 41: 'FLAVORED YOGHURTS',\n",
       " 42: 'BLOND BEERS',\n",
       " 43: 'BROWN BEERS',\n",
       " 44: \"SIROPS D'ERABLE ET ASSIMILES\",\n",
       " 45: 'TAMPONS',\n",
       " 46: 'SERVIETTES ET PROTEGES SLIPS',\n",
       " 47: \"PRODUIT D'INCONTINENCE\",\n",
       " 48: 'TOILETTE INTIME',\n",
       " 49: 'PRODUIT WC, BLOCS, GELS',\n",
       " 50: 'ENTRETIEN BOIS ET MEUBLES',\n",
       " 51: 'PAINS GRILLES ET BRAISES',\n",
       " 52: 'JUS DE FRUITS',\n",
       " 53: 'SAUCISSERIE ET CHARCUTERIE TRANCHEE',\n",
       " 54: 'PATES ET RILLETTES',\n",
       " 55: 'ALIMENTS BEBE',\n",
       " 56: 'SAVONS DE MENAGE',\n",
       " 57: 'GINS/VODKAS/TEQUILAS',\n",
       " 58: 'VINAIGRES',\n",
       " 59: 'DENTIFRICE',\n",
       " 60: 'LAITS INFANTILES',\n",
       " 61: 'LESSIVES SPECIALISTES',\n",
       " 62: 'JAMBON CUIT, EPAULE ET ROTIS',\n",
       " 63: 'BISCUITS PETIT DEJEUNER',\n",
       " 64: 'SAUCISSES ET BROCHETTES',\n",
       " 65: 'CANARD',\n",
       " 66: 'PLATS CUISINES FRAIS',\n",
       " 67: 'PLAIN YOGHURTS',\n",
       " 68: 'COTTAGE CHEESE',\n",
       " 69: 'MADELEINES, BROWNIES, MUFFINS',\n",
       " 70: 'COTONS ET COTONS TIGES',\n",
       " 71: 'TABLETTES DE CHOCOLAT',\n",
       " 72: 'INSECTICIDES',\n",
       " 73: 'JAMBON CRU',\n",
       " 74: 'LARDONS ET DES',\n",
       " 75: 'SAUCES CHAUDES, FROIDES ET DESHYDRATEES',\n",
       " 76: 'VIANDE HACHEE',\n",
       " 77: 'NETTOYANTS VITRES',\n",
       " 78: 'HYGIENE ET SOINS POUR BEBE',\n",
       " 79: 'BROSSE, CHIFFON, LINGETTES',\n",
       " 80: 'BALAIS, PLUMEAUX',\n",
       " 81: 'PRODUITS ENTRETIEN ET GROS TRAVAUX',\n",
       " 82: \"ADOUCISSEUR D'EAU/DETARTRANT\",\n",
       " 83: 'LAMES ET RASOIRS',\n",
       " 84: 'GELS DOUCHE',\n",
       " 85: 'PAPIERS TOILETTE',\n",
       " 86: 'ESSUIE-TOUT',\n",
       " 87: 'JAMBONS CUITS DE VOLAILLES',\n",
       " 88: 'POULET',\n",
       " 89: 'LOW ALCOHOL BEERS',\n",
       " 90: 'FLAVOURED BEERS',\n",
       " 91: 'WHEAT BEERS',\n",
       " 92: 'ALCOHOL FREE BEERS',\n",
       " 93: 'DEBOUCHEUR ET PRODUITS FOSSES SEPTIQUE',\n",
       " 94: 'COLORATION',\n",
       " 95: 'TARTINABLES CONSERVES',\n",
       " 96: 'ASSOUPLISSANTS ET SOIN DU LINGE',\n",
       " 97: 'GRAINES ET AUTRES FRUITS SECS',\n",
       " 98: 'CHIPS',\n",
       " 99: 'AMANDES',\n",
       " 100: 'NOIX',\n",
       " 101: 'REGIME ET SUBSTITUTS',\n",
       " 102: 'MILK',\n",
       " 103: 'CREPES, GAUFFRES',\n",
       " 104: 'TARTES, FAR',\n",
       " 105: 'PNEUS AUTO',\n",
       " 106: 'PNEUS SUV ET 4X4',\n",
       " 107: 'PNEUS CAMIONNETTES',\n",
       " 108: 'EPICES HERBES ET MELANGES',\n",
       " 109: 'JAVEL',\n",
       " 110: 'BISCOTTES ET EXTRUDES',\n",
       " 111: 'VIANDE PORCINE',\n",
       " 112: 'CREPES GALETTES',\n",
       " 113: 'LAPINS ET AUTRES GIBIERS',\n",
       " 114: 'LAQUES ET PRODUITS COIFFANTS',\n",
       " 115: 'ENTRETIEN CUIR PVC ET TOILE',\n",
       " 116: 'FARINES',\n",
       " 117: 'ADHESIFS BANDAGES ET 1ER SOINS',\n",
       " 118: 'INDIVIDUAL SPECIALTIES ICE CREAM',\n",
       " 119: 'DINDE',\n",
       " 120: 'ENTRETIEN FOURS GRILLS ET PLAQUES',\n",
       " 121: 'ROAD CYCLE TYRES',\n",
       " 122: 'MTB CYCLE TYRES',\n",
       " 123: 'TUBE',\n",
       " 124: 'TUBULAR TYRE',\n",
       " 125: 'PRODUITS POUR METAUX',\n",
       " 126: 'LOTS MIXTES HYGIENE BEAUTE',\n",
       " 127: 'SOINS DU CORPS',\n",
       " 128: 'LEGUMES SECS',\n",
       " 129: 'GATEAUX FROMAGERS ET TOURTEAUX',\n",
       " 130: 'PATES MOLLES',\n",
       " 131: 'DESSERTS A PREPARER',\n",
       " 132: 'PLATS CUISINES SURGELES',\n",
       " 133: 'ACCESSOIRES PUERICULTURE',\n",
       " 134: \"SEMOULES ET CEREALES D'ACCOMPAGNEMENT\",\n",
       " 135: 'BROSSES A DENTS ELECTRIQUES',\n",
       " 136: 'CIDERS',\n",
       " 137: 'BOISSONS ENERGETIQUES',\n",
       " 138: 'OLIVES',\n",
       " 139: 'BOULANGERIE ET PAINS PRE-EMBALLES',\n",
       " 140: 'PATES PRESSEES CUITES',\n",
       " 141: 'ACCESSOIRES HYGIENE DENTAIRE',\n",
       " 142: 'BROSSES A DENTS',\n",
       " 143: 'CONSERVES DE PATES',\n",
       " 144: 'LEVURES ET SUCRES AROMATISES',\n",
       " 145: 'FROMAGES DE CHEVRE ET BREBIS',\n",
       " 146: 'FROMAGES A TARTINER, ENFANTS',\n",
       " 147: 'FRESH AND UHT CREAMS',\n",
       " 148: 'SOINS DU VISAGE',\n",
       " 149: 'TOILETTE DU VISAGE',\n",
       " 150: 'SOINS DES MAINS ET LEVRES',\n",
       " 151: 'MAQUILLAGE',\n",
       " 152: 'ONGLES',\n",
       " 153: 'YEUX ET SOURCILS',\n",
       " 154: 'PRODUITS SOLAIRES',\n",
       " 155: 'LEVRES',\n",
       " 156: 'TEINT',\n",
       " 157: 'MOUTARDES ET PICALLILI',\n",
       " 158: 'PATES PERSILLEES',\n",
       " 159: 'CORNICHONS',\n",
       " 160: 'ACCESSOIRES DE TOILETTE',\n",
       " 161: 'LEGUMES MARINES',\n",
       " 162: \"LEGUMES D'ACCOMPAGNEMENT ET DE SALADE APPERTISES\",\n",
       " 163: 'SODAS ET BAF GAZEUSES',\n",
       " 164: 'MARGARINES',\n",
       " 165: 'DEODORANT',\n",
       " 166: 'PRODUITS RASAGE',\n",
       " 167: 'ALIMENTS HUMIDES POUR CHATS',\n",
       " 168: 'BOISSONS AUX FRUITS PLATES',\n",
       " 169: 'SAUCES VINAIGRETTES',\n",
       " 170: 'KETCHUPS',\n",
       " 171: 'ALIMENTS SECS POUR CHATS',\n",
       " 172: 'AIDES CULINAIRES ET CROUTONS',\n",
       " 173: 'ENTREES APPERTISEES',\n",
       " 174: 'BOISSONS A BASE DE THE',\n",
       " 175: 'COLAS',\n",
       " 176: 'LIMONADES TONICS LIMES',\n",
       " 177: 'CONSERVES AUTRES PRODUITS DE LA MER',\n",
       " 178: 'CONSERVES DE TOMATES',\n",
       " 179: 'EAUX PLATES NATURES',\n",
       " 180: 'EAUX GAZEUSES NATURES',\n",
       " 181: 'FROMAGES MEDITERRANEENS',\n",
       " 182: 'HUILES',\n",
       " 183: 'FRUITS AU SIROP',\n",
       " 184: 'PATES FRAICHES',\n",
       " 185: 'MAYONNAISES',\n",
       " 186: 'DETACHANTS',\n",
       " 187: 'KIWIS',\n",
       " 188: 'EDULCORANTS ET SUBSTITUTS DE SUCRE',\n",
       " 189: 'ALIMENTS SECS POUR CHIENS',\n",
       " 190: 'PATES ALIMENTAIRES',\n",
       " 191: 'COMPLEMENTS ALIMENTAIRES',\n",
       " 192: 'ACCESSOIRES ET LUBRIFIANTS',\n",
       " 193: 'SOUPES ET POTAGES',\n",
       " 194: 'PIZZAS SURGELEES',\n",
       " 195: 'ENTREES SURGELEES',\n",
       " 196: 'VIANDES SURGELEES',\n",
       " 197: 'RIZ',\n",
       " 198: 'ALIMENTS HUMIDES POUR CHIENS',\n",
       " 199: 'THES',\n",
       " 200: 'INFUSIONS',\n",
       " 201: 'POISSONS ET FRUITS DE MER SURGELES',\n",
       " 202: 'PREPARATION BOISSONS CHOCOLATEES',\n",
       " 203: 'AMER/GENTIANE/BITTER/AMERICANO',\n",
       " 204: 'PLATS CUISINES DESHYDRATES',\n",
       " 205: 'DISSOLVANTS',\n",
       " 206: 'CHAMPAGNE',\n",
       " 207: \"EAU DE VIE ET FRUITS A L'ALCOOL\",\n",
       " 208: 'EGGS',\n",
       " 209: 'EAUX AROMATISEES',\n",
       " 210: 'LIQUEUR ET CREME',\n",
       " 211: 'ACCESSOIRES POUR CHEVEUX',\n",
       " 212: 'FRUITS ROUGES',\n",
       " 213: 'CAFES DOSETTES',\n",
       " 214: 'FILTRES A CAFE',\n",
       " 215: 'BARQUETTES, SACHETS ALIMENTAIRES ET EMBALLAGES ROULEAUX',\n",
       " 216: 'SACS POUBELLES',\n",
       " 217: 'POMMES DE TERRE',\n",
       " 218: 'FRUITS EXOTIQUES',\n",
       " 219: 'CHOUX POIREAUX NAVETS CELERIS',\n",
       " 220: 'AGRUMES',\n",
       " 221: 'BANANES',\n",
       " 222: 'CHATAIGNES',\n",
       " 223: 'MELONS, PASTEQUES',\n",
       " 224: 'NECTARINES, BRUGNONS, PECHES',\n",
       " 225: 'POMMES, POIRES',\n",
       " 226: 'ABRICOTS, CERISES ET PRUNES',\n",
       " 227: 'RAISIN',\n",
       " 228: 'AUBERGINES, COURGETTES, POIVRONS',\n",
       " 229: 'SALADES',\n",
       " 230: 'TOMATES',\n",
       " 231: 'LEGUMES EXOTIQUES',\n",
       " 232: 'FILETS, PAVES DE POISSON',\n",
       " 233: 'COQUILLAGES & CRUSTACES',\n",
       " 234: 'ARTICHAUTS',\n",
       " 235: 'CONCOMBRES AVOCATS RADIS BETTERAVES',\n",
       " 236: 'POTIRONS, COURGES ET LEGUMES ANCIENS',\n",
       " 237: 'AIL OIGNONS ECHALOTES',\n",
       " 238: 'HERBES AROMATIQUES FRAICHES',\n",
       " 239: 'CHAMPIGNONS',\n",
       " 240: 'ASPERGES',\n",
       " 241: 'ENDIVES',\n",
       " 242: 'LAITS INDUSTRIELS',\n",
       " 243: 'LINGETTES ET RINCES DOIGTS',\n",
       " 244: 'PANES, NUGGETS, GRIGNOTTES',\n",
       " 245: 'EPONGES ET TAMPONS A RECURER',\n",
       " 246: 'PRODUIT ENTRETIEN LAVE VAISSELLE',\n",
       " 247: 'PRODUIT DE LAVAGE LAVE VAISSELLE',\n",
       " 248: 'VERMOUTH',\n",
       " 249: 'PUNCH ET COCKTAIL',\n",
       " 250: 'SIROP DE SUCRE DE CANNE',\n",
       " 251: 'VINS DOUX NATURELS / MUSCATS / PINEAUX',\n",
       " 252: 'VINS EFFERVESCENTS',\n",
       " 253: 'SANGRIA ET APERITIFS BASE VIN',\n",
       " 254: 'CHAMPIGNONS EN CONSERVES',\n",
       " 255: 'PORTO MADERE XERES',\n",
       " 256: 'APERITIFS ANISES',\n",
       " 257: 'SIROPS ET CONCENTRES POUR BOISSONS',\n",
       " 258: 'SOLUBLES',\n",
       " 259: 'CAFES TORREFIES',\n",
       " 260: 'PRODUITS POUR LE BAIN',\n",
       " 261: 'PETITS POIS, CAROTTES EN CONSERVES',\n",
       " 262: 'HARICOTS VERTS EN CONSERVES',\n",
       " 263: 'FLAGEOLETS EN CONSERVES',\n",
       " 264: 'MAIS DOUX EN CONSERVES',\n",
       " 265: 'SALADES CONSERVES PRODUITS DE LA MER',\n",
       " 266: 'PLATS CUISINES APPERTISES',\n",
       " 267: 'ASPERGES EN CONSERVES',\n",
       " 268: 'GRAISSES A FRIRE',\n",
       " 269: 'FOIES GRAS FRAIS',\n",
       " 270: 'CONSERVES DE SARDINES',\n",
       " 271: 'CONSERVES DE MAQUEREAUX',\n",
       " 272: 'CONSERVES DE THON',\n",
       " 273: 'SALADES FRAICHES',\n",
       " 274: 'DESSERTS PRETS A CONSOMMER',\n",
       " 275: 'VINS AROMATISES',\n",
       " 276: 'PATES PRESSEES NON CUITES',\n",
       " 277: 'COGNAC ARMAGNAC CALVADOS',\n",
       " 278: 'SUCRES',\n",
       " 279: 'PAIN DE MIE',\n",
       " 280: 'ACCESSOIRES',\n",
       " 281: 'FROMAGES RAPES, TRANCHES, DES, SANDWICHES, APERITIFS',\n",
       " 282: 'LEGUMES SURGELES',\n",
       " 283: 'FOIES GRAS APPERTISES',\n",
       " 284: 'POISSONS FUMES',\n",
       " 285: 'QUICHE/TARTE SALEE/TOURTE RF',\n",
       " 286: 'POIVRES ET SELS',\n",
       " 287: 'PUREES POMMES DE TERRE DESHYDRATEES',\n",
       " 288: 'VIANDE BOVINE',\n",
       " 289: 'VIN BLANC',\n",
       " 290: 'CORNED BEEF ET ESCARGOTS BOITE',\n",
       " 291: 'TEINTURES TEXTILES',\n",
       " 292: 'VIN ROUGE',\n",
       " 293: 'PATES MENAGERES',\n",
       " 294: 'SOINS ANTI-BACTERIENS VISAGE',\n",
       " 295: 'ENTRETIEN TAPIS MOQUETTE AMEUBLEMENT',\n",
       " 296: 'ACCESSOIRE LUSTRANT CHAUSSURES',\n",
       " 297: 'HYGIENE SEXUELLE',\n",
       " 298: 'PRESERVATIFS',\n",
       " 299: 'SEMELLES',\n",
       " 300: 'SAUCES HERBES INFUS. SURGELES',\n",
       " 301: 'FROZEN DESSERTS',\n",
       " 302: 'GANTS DE MENAGE',\n",
       " 303: 'CAROTTES',\n",
       " 304: 'VIN ROSE',\n",
       " 305: 'ABRICOTS SECS',\n",
       " 306: 'DATTES',\n",
       " 307: 'PRUNEAUX',\n",
       " 308: 'NOISETTES',\n",
       " 309: 'SURIMI',\n",
       " 310: 'JUS DE LEGUMES',\n",
       " 311: 'BEURRES',\n",
       " 312: 'PIZZAS RF',\n",
       " 313: 'PREMIX',\n",
       " 314: 'PINTADES',\n",
       " 315: 'OPTIQUE ET AUDITION',\n",
       " 316: 'RAISINS SECS',\n",
       " 317: 'FIGUES',\n",
       " 318: 'SANDWICH SNACK CROQUES',\n",
       " 319: 'POMMES DE TERRE SURGELEES',\n",
       " 320: 'PAINS SUEDOIS',\n",
       " 321: 'SPECIALTIES ICE CREAM TO SHARE',\n",
       " 322: 'VIANDE OVINE',\n",
       " 323: 'HARICOTS ET POIS',\n",
       " 324: 'FRUITS FRAIS DECOUPES',\n",
       " 325: 'EPINARDS',\n",
       " 326: 'BARRES, GELS ET BOISSONS',\n",
       " 327: 'PROTEINE VEGETALE ET CONSTRUCTION MUSCULAIRE',\n",
       " 328: 'DOULEURS MUSCULAIRES ET ARTICULAIRES, CONFORT DES JAMBES',\n",
       " 329: 'MAINTIEN ET CONTENTION',\n",
       " 330: 'MAUX DU QUOTIDIEN',\n",
       " 331: 'POISSONS PANES',\n",
       " 332: 'TESTS ET APPAREILS DE MESURE',\n",
       " 333: 'PILES'}"
      ]
     },
     "execution_count": 10,
     "metadata": {},
     "output_type": "execute_result"
    }
   ],
   "source": [
    "model.config.id2label"
   ]
  },
  {
   "cell_type": "code",
   "execution_count": 11,
   "metadata": {},
   "outputs": [
    {
     "name": "stdout",
     "output_type": "stream",
     "text": [
      "WARNING:tensorflow:The parameters `output_attentions`, `output_hidden_states` and `use_cache` cannot be updated when calling a model.They have to be set to True/False in the config object (i.e.: `config=XConfig.from_pretrained('name', output_attentions=True)`).\n",
      "WARNING:tensorflow:AutoGraph could not transform <bound method Socket.send of <zmq.sugar.socket.Socket object at 0x000001CAB247F868>> and will run it as-is.\n",
      "Please report this to the TensorFlow team. When filing the bug, set the verbosity to 10 (on Linux, `export AUTOGRAPH_VERBOSITY=10`) and attach the full output.\n",
      "Cause: module, class, method, function, traceback, frame, or code object was expected, got cython_function_or_method\n",
      "To silence this warning, decorate the function with @tf.autograph.experimental.do_not_convert\n",
      "WARNING: AutoGraph could not transform <bound method Socket.send of <zmq.sugar.socket.Socket object at 0x000001CAB247F868>> and will run it as-is.\n",
      "Please report this to the TensorFlow team. When filing the bug, set the verbosity to 10 (on Linux, `export AUTOGRAPH_VERBOSITY=10`) and attach the full output.\n",
      "Cause: module, class, method, function, traceback, frame, or code object was expected, got cython_function_or_method\n",
      "To silence this warning, decorate the function with @tf.autograph.experimental.do_not_convert\n",
      "WARNING:tensorflow:The parameter `return_dict` cannot be set in graph mode and will always be set to `True`.\n"
     ]
    }
   ],
   "source": [
    "import numpy as np\n",
    "prediction=model.predict(tokenizer(['bio auchan bio muesli crales croustillantes quinoa chocolat',\"gums\",\"hello\"],padding=True, truncation=True, return_tensors=\"tf\").data)"
   ]
  },
  {
   "cell_type": "code",
   "execution_count": 14,
   "metadata": {},
   "outputs": [
    {
     "data": {
      "text/plain": [
       "array([[ 0.2619929 ,  3.8977263 ,  1.0166389 , ..., -0.79528075,\n",
       "        -1.6742209 , -0.9255146 ],\n",
       "       [ 7.804173  ,  3.7603357 ,  9.011575  , ..., -2.1714008 ,\n",
       "        -0.1209379 , -2.8579834 ],\n",
       "       [ 2.1395533 ,  2.9372764 ,  1.812624  , ...,  0.39393282,\n",
       "        -0.14284448, -5.082911  ]], dtype=float32)"
      ]
     },
     "execution_count": 14,
     "metadata": {},
     "output_type": "execute_result"
    }
   ],
   "source": [
    "prediction.logits"
   ]
  },
  {
   "cell_type": "code",
   "execution_count": 16,
   "metadata": {},
   "outputs": [
    {
     "name": "stdout",
     "output_type": "stream",
     "text": [
      "tf.Tensor(\n",
      "[[1.4001304e-06 5.3106476e-05 2.9778798e-06 ... 4.8640794e-07\n",
      "  2.0196755e-07 4.2701276e-07]\n",
      " [1.2520224e-01 2.1948051e-03 4.1877431e-01 ... 5.8247242e-06\n",
      "  4.5266821e-05 2.9315433e-06]\n",
      " [5.6002429e-03 1.2435222e-02 4.0385295e-03 ... 9.7744761e-04\n",
      "  5.7144440e-04 4.0881823e-06]], shape=(3, 334), dtype=float32)\n"
     ]
    }
   ],
   "source": [
    "import tensorflow as tf \n",
    "print(tf.math.softmax(prediction.logits))\n",
    "prediction = tf.math.softmax(prediction.logits)"
   ]
  },
  {
   "cell_type": "code",
   "execution_count": 30,
   "metadata": {},
   "outputs": [
    {
     "data": {
      "text/plain": [
       "TensorShape([3, 334])"
      ]
     },
     "execution_count": 30,
     "metadata": {},
     "output_type": "execute_result"
    }
   ],
   "source": [
    "prediction.shape"
   ]
  },
  {
   "cell_type": "code",
   "execution_count": 33,
   "metadata": {},
   "outputs": [
    {
     "data": {
      "text/plain": [
       "array([11,  2, 71], dtype=int64)"
      ]
     },
     "execution_count": 33,
     "metadata": {},
     "output_type": "execute_result"
    }
   ],
   "source": [
    "idx"
   ]
  },
  {
   "cell_type": "code",
   "execution_count": 26,
   "metadata": {},
   "outputs": [],
   "source": [
    "idx = np.argmax(prediction,axis=-1)"
   ]
  },
  {
   "cell_type": "code",
   "execution_count": 28,
   "metadata": {},
   "outputs": [
    {
     "data": {
      "text/plain": [
       "[11, 2, 71]"
      ]
     },
     "execution_count": 28,
     "metadata": {},
     "output_type": "execute_result"
    }
   ],
   "source": [
    "list(idx)"
   ]
  },
  {
   "cell_type": "code",
   "execution_count": 29,
   "metadata": {},
   "outputs": [
    {
     "data": {
      "text/plain": [
       "['CEREALES',\n",
       " 'BONBONS, SUCETTES ET CONFISERIE DE SUCRE',\n",
       " 'TABLETTES DE CHOCOLAT']"
      ]
     },
     "execution_count": 29,
     "metadata": {},
     "output_type": "execute_result"
    }
   ],
   "source": [
    "idx = np.argmax(prediction,axis=-1)\n",
    "list(map(lambda x: (model.config.id2label.get(x)),list(idx)))"
   ]
  },
  {
   "cell_type": "code",
   "execution_count": 37,
   "metadata": {},
   "outputs": [
    {
     "data": {
      "text/plain": [
       "array([[1.4001304e-06, 5.3106476e-05, 2.9778798e-06, ..., 4.8640794e-07,\n",
       "        2.0196755e-07, 4.2701276e-07],\n",
       "       [1.2520224e-01, 2.1948051e-03, 4.1877431e-01, ..., 5.8247242e-06,\n",
       "        4.5266821e-05, 2.9315433e-06],\n",
       "       [5.6002429e-03, 1.2435222e-02, 4.0385295e-03, ..., 9.7744761e-04,\n",
       "        5.7144440e-04, 4.0881823e-06]], dtype=float32)"
      ]
     },
     "execution_count": 37,
     "metadata": {},
     "output_type": "execute_result"
    }
   ],
   "source": [
    "prediction.numpy()"
   ]
  },
  {
   "cell_type": "code",
   "execution_count": 43,
   "metadata": {},
   "outputs": [
    {
     "data": {
      "text/plain": [
       "[0.9971578, 0.4187743, 0.11852857]"
      ]
     },
     "execution_count": 43,
     "metadata": {},
     "output_type": "execute_result"
    }
   ],
   "source": [
    "list(np.max(prediction,axis=-1))"
   ]
  },
  {
   "cell_type": "code",
   "execution_count": 24,
   "metadata": {},
   "outputs": [],
   "source": [
    "import pandas as pd"
   ]
  },
  {
   "cell_type": "code",
   "execution_count": 25,
   "metadata": {},
   "outputs": [
    {
     "ename": "TypeError",
     "evalue": "'numpy.int64' object is not iterable",
     "output_type": "error",
     "traceback": [
      "\u001b[1;31m---------------------------------------------------------------------------\u001b[0m",
      "\u001b[1;31mTypeError\u001b[0m                                 Traceback (most recent call last)",
      "\u001b[1;32m<ipython-input-25-aa9386ed3832>\u001b[0m in \u001b[0;36m<module>\u001b[1;34m\u001b[0m\n\u001b[1;32m----> 1\u001b[1;33m \u001b[0mpd\u001b[0m\u001b[1;33m.\u001b[0m\u001b[0mDataFrame\u001b[0m\u001b[1;33m(\u001b[0m\u001b[1;33m{\u001b[0m\u001b[1;34m\"Class\"\u001b[0m\u001b[1;33m:\u001b[0m\u001b[0mlist\u001b[0m\u001b[1;33m(\u001b[0m\u001b[0mmap\u001b[0m\u001b[1;33m(\u001b[0m\u001b[1;32mlambda\u001b[0m \u001b[0mx\u001b[0m\u001b[1;33m:\u001b[0m \u001b[1;33m(\u001b[0m\u001b[0mmodel\u001b[0m\u001b[1;33m.\u001b[0m\u001b[0mconfig\u001b[0m\u001b[1;33m.\u001b[0m\u001b[0mid2label\u001b[0m\u001b[1;33m.\u001b[0m\u001b[0mget\u001b[0m\u001b[1;33m(\u001b[0m\u001b[0mx\u001b[0m\u001b[1;33m)\u001b[0m\u001b[1;33m)\u001b[0m\u001b[1;33m,\u001b[0m\u001b[0midx\u001b[0m\u001b[1;33m[\u001b[0m\u001b[1;36m0\u001b[0m\u001b[1;33m]\u001b[0m\u001b[1;33m)\u001b[0m\u001b[1;33m)\u001b[0m\u001b[1;33m,\u001b[0m\u001b[1;34m\"Score\"\u001b[0m\u001b[1;33m:\u001b[0m\u001b[0mlist\u001b[0m\u001b[1;33m(\u001b[0m\u001b[0mnp\u001b[0m\u001b[1;33m.\u001b[0m\u001b[0mmax\u001b[0m\u001b[1;33m(\u001b[0m\u001b[0mprediction\u001b[0m\u001b[1;33m,\u001b[0m\u001b[0maxis\u001b[0m\u001b[1;33m=\u001b[0m\u001b[1;33m-\u001b[0m\u001b[1;36m1\u001b[0m\u001b[1;33m)\u001b[0m\u001b[1;33m[\u001b[0m\u001b[1;36m0\u001b[0m\u001b[1;33m]\u001b[0m\u001b[1;33m)\u001b[0m\u001b[1;33m}\u001b[0m\u001b[1;33m)\u001b[0m\u001b[1;33m\u001b[0m\u001b[1;33m\u001b[0m\u001b[0m\n\u001b[0m",
      "\u001b[1;31mTypeError\u001b[0m: 'numpy.int64' object is not iterable"
     ]
    }
   ],
   "source": [
    "pd.DataFrame({\"Class\":list(map(lambda x: (model.config.id2label.get(x)),idx[0])),\"Score\":list(np.max(prediction,axis=-1)[0])})"
   ]
  },
  {
   "cell_type": "code",
   "execution_count": 76,
   "metadata": {},
   "outputs": [
    {
     "data": {
      "text/plain": [
       "<tf.Tensor: shape=(1, 1, 334), dtype=float32, numpy=\n",
       "array([[[1.40013572e-06, 5.31067308e-05, 2.97789120e-06, 1.72611877e-07,\n",
       "         4.17271212e-06, 2.56511089e-06, 1.00337400e-03, 1.60297793e-06,\n",
       "         1.22551291e-05, 9.09924347e-06, 6.82554219e-06, 9.97157812e-01,\n",
       "         3.34873675e-06, 6.93357691e-08, 2.37421027e-05, 1.01389669e-04,\n",
       "         5.08803350e-06, 1.01747328e-05, 2.12247614e-05, 1.10937290e-05,\n",
       "         2.86111990e-05, 9.01179956e-05, 2.57025903e-07, 2.03519086e-08,\n",
       "         4.59502508e-06, 2.46775471e-05, 3.17965873e-06, 7.85899101e-06,\n",
       "         8.49754633e-06, 7.75418266e-06, 1.79308645e-05, 4.47820639e-05,\n",
       "         4.35537856e-07, 7.70479360e-08, 3.30892718e-08, 1.13148526e-05,\n",
       "         7.09622867e-08, 2.81259759e-06, 3.38015282e-09, 3.11414823e-07,\n",
       "         1.92094269e-08, 1.35392853e-04, 1.96493588e-07, 1.88346760e-07,\n",
       "         1.84234898e-06, 9.66779226e-08, 9.40130292e-07, 2.88971933e-06,\n",
       "         3.81834226e-08, 4.30969704e-09, 1.21122996e-08, 2.12364625e-07,\n",
       "         1.10610017e-05, 5.01862530e-07, 3.30643360e-07, 3.20755702e-04,\n",
       "         3.74223053e-09, 8.56795026e-08, 9.34710513e-08, 5.86220858e-06,\n",
       "         3.90513196e-06, 8.73587211e-08, 4.31571465e-07, 9.73479982e-05,\n",
       "         5.59475836e-07, 9.99909577e-09, 1.45901522e-05, 9.17032958e-06,\n",
       "         2.36112755e-05, 7.50299978e-06, 1.74013962e-07, 1.08050626e-05,\n",
       "         1.62083964e-07, 1.26983753e-06, 1.62970863e-07, 3.46260731e-06,\n",
       "         3.07283265e-08, 1.19717285e-07, 2.93131933e-07, 8.51009574e-09,\n",
       "         1.19226218e-09, 9.69824310e-09, 5.92762284e-10, 4.70322760e-07,\n",
       "         7.58086912e-07, 6.22760652e-08, 6.98379710e-09, 1.63219340e-06,\n",
       "         1.94811241e-06, 4.55135911e-08, 2.50102250e-08, 1.00467554e-08,\n",
       "         9.39484508e-08, 2.34968911e-09, 2.83964641e-06, 1.85333100e-08,\n",
       "         7.57284813e-09, 1.90765968e-06, 9.31905015e-06, 5.80628239e-07,\n",
       "         1.08455572e-06, 4.15279355e-05, 2.36947599e-05, 1.75967568e-06,\n",
       "         1.95230427e-06, 6.38773008e-06, 7.65691766e-06, 7.83037081e-07,\n",
       "         3.00634611e-06, 1.65214189e-08, 3.94403014e-06, 2.23708376e-08,\n",
       "         5.34215405e-06, 1.39818141e-07, 3.67833252e-07, 9.17607235e-09,\n",
       "         3.99065857e-06, 9.04571138e-08, 4.10193297e-06, 1.56205363e-06,\n",
       "         1.00553441e-08, 2.46980640e-08, 2.16847639e-07, 6.13519759e-08,\n",
       "         2.02380747e-07, 1.58124287e-08, 1.87491040e-07, 4.73006367e-07,\n",
       "         3.17936451e-06, 1.67369450e-07, 7.83532300e-07, 8.47621959e-06,\n",
       "         1.61484627e-06, 1.33137561e-07, 1.59866831e-04, 7.08962375e-07,\n",
       "         1.22859518e-07, 5.22079972e-07, 2.43794631e-07, 2.94582492e-07,\n",
       "         1.78595883e-06, 1.78170666e-07, 5.52790084e-07, 1.70981849e-07,\n",
       "         7.27779721e-08, 3.80871938e-06, 1.10220662e-06, 8.20182379e-07,\n",
       "         1.11482689e-06, 4.44771473e-07, 2.31604872e-07, 2.16768558e-06,\n",
       "         1.37074915e-06, 1.68241547e-06, 8.28798534e-07, 7.41542124e-07,\n",
       "         4.00264355e-07, 3.66975883e-07, 8.13696772e-08, 7.22414029e-07,\n",
       "         2.13892779e-08, 7.88385321e-08, 4.50149486e-07, 2.27027343e-07,\n",
       "         1.04135916e-06, 3.08737617e-06, 1.87451601e-08, 4.80407948e-07,\n",
       "         3.64642165e-06, 1.08740687e-06, 1.31323009e-06, 4.15710656e-06,\n",
       "         2.55667010e-06, 7.52138703e-07, 1.38752637e-06, 3.35843851e-07,\n",
       "         4.12963431e-07, 2.39851659e-08, 3.04014691e-07, 3.24812362e-07,\n",
       "         7.78086040e-09, 6.62423503e-08, 7.44684428e-07, 1.78171604e-06,\n",
       "         2.49955383e-06, 2.84618841e-06, 7.51275575e-09, 3.68021318e-07,\n",
       "         3.02310461e-08, 2.35971947e-06, 1.74608103e-05, 1.50940389e-06,\n",
       "         1.53676938e-09, 3.82237204e-06, 1.88457909e-06, 1.03121793e-05,\n",
       "         3.35327002e-07, 2.05062315e-06, 1.15079736e-07, 1.80674670e-05,\n",
       "         5.41744384e-06, 7.52224025e-07, 1.35004684e-05, 1.78714110e-08,\n",
       "         4.79882510e-06, 6.39908322e-08, 1.05285881e-06, 1.72653909e-08,\n",
       "         4.46775721e-06, 1.70466052e-07, 1.32570705e-07, 5.71787541e-06,\n",
       "         1.41913756e-06, 2.82210513e-05, 1.19900676e-07, 1.96154900e-07,\n",
       "         3.28117835e-07, 9.78337695e-08, 2.67186806e-06, 2.30183730e-07,\n",
       "         2.65329732e-07, 1.00957402e-06, 4.98186466e-07, 6.93742663e-08,\n",
       "         1.00477763e-07, 8.54860389e-07, 2.54306826e-07, 6.84168128e-07,\n",
       "         9.85463728e-08, 4.27485418e-07, 2.42873437e-08, 4.52453833e-07,\n",
       "         6.70859919e-08, 1.66526590e-07, 1.96013886e-07, 4.65070578e-08,\n",
       "         1.24748823e-07, 1.37051060e-07, 5.80437188e-07, 9.96652830e-07,\n",
       "         2.82120595e-07, 9.80873665e-07, 2.35697553e-06, 9.52358636e-09,\n",
       "         3.18014863e-05, 3.81901710e-09, 2.77185985e-09, 2.72795617e-08,\n",
       "         8.43651691e-08, 2.51957232e-07, 7.18479498e-08, 1.32542908e-07,\n",
       "         1.32827864e-07, 2.56181263e-08, 4.12915000e-07, 1.79303754e-08,\n",
       "         4.00885334e-08, 2.77440063e-06, 1.66258337e-06, 1.83775046e-05,\n",
       "         1.55042315e-07, 3.44027569e-07, 1.71715975e-08, 5.75512509e-08,\n",
       "         1.01180729e-06, 2.37043309e-06, 5.63491881e-07, 3.40134179e-08,\n",
       "         5.56905455e-08, 1.91851413e-07, 1.20641403e-07, 3.22489115e-07,\n",
       "         1.14016984e-06, 1.38635914e-05, 2.14987517e-06, 1.10941201e-07,\n",
       "         8.91821870e-08, 2.61993431e-08, 3.39732189e-08, 1.38340795e-06,\n",
       "         1.08394815e-07, 2.12629899e-07, 2.32897065e-07, 3.55477340e-07,\n",
       "         1.70475488e-07, 2.64868231e-06, 7.96650639e-08, 7.52640915e-07,\n",
       "         2.67722946e-08, 4.69354063e-07, 1.83857779e-07, 7.86088972e-09,\n",
       "         3.63855861e-07, 5.80005917e-06, 7.98447175e-08, 2.67876690e-08,\n",
       "         3.01588687e-09, 1.47712811e-08, 1.67278188e-07, 4.53254529e-07,\n",
       "         1.54714712e-07, 3.50761729e-05, 5.83170099e-08, 3.99186138e-06,\n",
       "         3.39330825e-07, 4.45075699e-07, 2.97872759e-07, 6.19447178e-08,\n",
       "         9.80155505e-07, 7.78681795e-08, 1.65360325e-06, 5.93327002e-07,\n",
       "         1.57561760e-06, 1.28588411e-07, 1.15275088e-06, 5.78133204e-08,\n",
       "         8.67593201e-07, 3.33093368e-07, 1.13588667e-05, 9.47449280e-06,\n",
       "         6.17092553e-07, 1.41830412e-06, 3.04564338e-07, 2.65068707e-07,\n",
       "         7.86867886e-08, 3.33783362e-07, 1.75731964e-06, 1.44955982e-06,\n",
       "         6.24077927e-07, 4.85883561e-07, 1.94965025e-07, 4.86409817e-07,\n",
       "         2.01968334e-07, 4.27014413e-07]]], dtype=float32)>"
      ]
     },
     "execution_count": 76,
     "metadata": {},
     "output_type": "execute_result"
    }
   ],
   "source": [
    "prediction"
   ]
  },
  {
   "cell_type": "code",
   "execution_count": 32,
   "metadata": {},
   "outputs": [
    {
     "data": {
      "text/plain": [
       "{'input_ids': [[101, 7592, 102]],\n",
       " 'token_type_ids': [[0, 0, 0]],\n",
       " 'attention_mask': [[1, 1, 1]]}"
      ]
     },
     "execution_count": 32,
     "metadata": {},
     "output_type": "execute_result"
    }
   ],
   "source": [
    "dict(tokenizer(['hello']))"
   ]
  },
  {
   "cell_type": "code",
   "execution_count": 89,
   "metadata": {},
   "outputs": [
    {
     "ename": "NameError",
     "evalue": "name 'Bertokenizer' is not defined",
     "output_type": "error",
     "traceback": [
      "\u001b[1;31m---------------------------------------------------------------------------\u001b[0m",
      "\u001b[1;31mNameError\u001b[0m                                 Traceback (most recent call last)",
      "\u001b[1;32m<ipython-input-89-da4a3b6528e6>\u001b[0m in \u001b[0;36m<module>\u001b[1;34m\u001b[0m\n\u001b[1;32m----> 1\u001b[1;33m \u001b[0mpipe1\u001b[0m\u001b[1;33m=\u001b[0m \u001b[0mpipeline\u001b[0m\u001b[1;33m(\u001b[0m\u001b[0mmodel\u001b[0m\u001b[1;33m=\u001b[0m\u001b[1;34m\"model\"\u001b[0m\u001b[1;33m,\u001b[0m\u001b[0mtokenizer\u001b[0m \u001b[1;33m=\u001b[0m \u001b[0mBertokenizer\u001b[0m\u001b[1;33m.\u001b[0m\u001b[0mfrom_pretrained\u001b[0m\u001b[1;33m(\u001b[0m\u001b[1;34m'tokenizer'\u001b[0m\u001b[1;33m)\u001b[0m\u001b[1;33m,\u001b[0m\u001b[0mtask\u001b[0m\u001b[1;33m=\u001b[0m\u001b[1;34m'sentiment-analysis'\u001b[0m\u001b[1;33m)\u001b[0m\u001b[1;33m\u001b[0m\u001b[1;33m\u001b[0m\u001b[0m\n\u001b[0m",
      "\u001b[1;31mNameError\u001b[0m: name 'Bertokenizer' is not defined"
     ]
    }
   ],
   "source": [
    "pipe1= pipeline(model=\"model\",tokenizer = Bertokenizer.from_pretrained('tokenizer'),task='sentiment-analysis')"
   ]
  },
  {
   "cell_type": "code",
   "execution_count": 87,
   "metadata": {},
   "outputs": [
    {
     "ename": "AttributeError",
     "evalue": "'BertTokenizer' object has no attribute 'config'",
     "output_type": "error",
     "traceback": [
      "\u001b[1;31m---------------------------------------------------------------------------\u001b[0m",
      "\u001b[1;31mAttributeError\u001b[0m                            Traceback (most recent call last)",
      "\u001b[1;32m<ipython-input-87-d354d86532fd>\u001b[0m in \u001b[0;36m<module>\u001b[1;34m\u001b[0m\n\u001b[1;32m----> 1\u001b[1;33m \u001b[0mtokenizer\u001b[0m\u001b[1;33m.\u001b[0m\u001b[0mconfig\u001b[0m\u001b[1;33m\u001b[0m\u001b[1;33m\u001b[0m\u001b[0m\n\u001b[0m",
      "\u001b[1;31mAttributeError\u001b[0m: 'BertTokenizer' object has no attribute 'config'"
     ]
    }
   ],
   "source": [
    "tokenizer.config"
   ]
  },
  {
   "cell_type": "code",
   "execution_count": 41,
   "metadata": {},
   "outputs": [
    {
     "data": {
      "text/plain": [
       "PreTrainedTokenizer(name_or_path='tokenizer', vocab_size=30522, model_max_len=512, is_fast=False, padding_side='right', special_tokens={'unk_token': '[UNK]', 'sep_token': '[SEP]', 'pad_token': '[PAD]', 'cls_token': '[CLS]', 'mask_token': '[MASK]'})"
      ]
     },
     "execution_count": 41,
     "metadata": {},
     "output_type": "execute_result"
    }
   ],
   "source": [
    "tokenizer"
   ]
  },
  {
   "cell_type": "code",
   "execution_count": 42,
   "metadata": {},
   "outputs": [
    {
     "data": {
      "text/plain": [
       "{'input_ids': <tf.Tensor: shape=(3, 21), dtype=int32, numpy=\n",
       " array([[  101, 16012,  8740, 14856, 16012, 14163,  2229,  3669, 13675,\n",
       "         23266, 13675,  3560, 28345, 24985, 21864,  3630,  2050, 16480,\n",
       "         26289,  2102,   102],\n",
       "        [  101, 16031,  2015,   102,     0,     0,     0,     0,     0,\n",
       "             0,     0,     0,     0,     0,     0,     0,     0,     0,\n",
       "             0,     0,     0],\n",
       "        [  101,  7592,   102,     0,     0,     0,     0,     0,     0,\n",
       "             0,     0,     0,     0,     0,     0,     0,     0,     0,\n",
       "             0,     0,     0]])>,\n",
       " 'token_type_ids': <tf.Tensor: shape=(3, 21), dtype=int32, numpy=\n",
       " array([[0, 0, 0, 0, 0, 0, 0, 0, 0, 0, 0, 0, 0, 0, 0, 0, 0, 0, 0, 0, 0],\n",
       "        [0, 0, 0, 0, 0, 0, 0, 0, 0, 0, 0, 0, 0, 0, 0, 0, 0, 0, 0, 0, 0],\n",
       "        [0, 0, 0, 0, 0, 0, 0, 0, 0, 0, 0, 0, 0, 0, 0, 0, 0, 0, 0, 0, 0]])>,\n",
       " 'attention_mask': <tf.Tensor: shape=(3, 21), dtype=int32, numpy=\n",
       " array([[1, 1, 1, 1, 1, 1, 1, 1, 1, 1, 1, 1, 1, 1, 1, 1, 1, 1, 1, 1, 1],\n",
       "        [1, 1, 1, 1, 0, 0, 0, 0, 0, 0, 0, 0, 0, 0, 0, 0, 0, 0, 0, 0, 0],\n",
       "        [1, 1, 1, 0, 0, 0, 0, 0, 0, 0, 0, 0, 0, 0, 0, 0, 0, 0, 0, 0, 0]])>}"
      ]
     },
     "execution_count": 42,
     "metadata": {},
     "output_type": "execute_result"
    }
   ],
   "source": [
    "\n",
    "tokenizer(['bio auchan bio muesli crales croustillantes quinoa chocolat',\"gums\",\"hello\"],padding=True, truncation=True, return_tensors=\"tf\").data"
   ]
  },
  {
   "cell_type": "code",
   "execution_count": 43,
   "metadata": {},
   "outputs": [],
   "source": [
    "import pandas as pd"
   ]
  },
  {
   "cell_type": "code",
   "execution_count": 44,
   "metadata": {
    "scrolled": true
   },
   "outputs": [
    {
     "data": {
      "text/plain": [
       "input_ids         ((tf.Tensor(101, shape=(), dtype=int32), tf.Te...\n",
       "token_type_ids    ((tf.Tensor(0, shape=(), dtype=int32), tf.Tens...\n",
       "attention_mask    ((tf.Tensor(1, shape=(), dtype=int32), tf.Tens...\n",
       "dtype: object"
      ]
     },
     "execution_count": 44,
     "metadata": {},
     "output_type": "execute_result"
    }
   ],
   "source": [
    "pd.Series(tokenizer(['bio auchan bio muesli crales croustillantes quinoa chocolat',\"gums\",\"hello\"],padding=True, truncation=True, return_tensors=\"tf\").data)"
   ]
  },
  {
   "cell_type": "code",
   "execution_count": 44,
   "metadata": {},
   "outputs": [],
   "source": [
    "import joblib"
   ]
  },
  {
   "cell_type": "code",
   "execution_count": 45,
   "metadata": {},
   "outputs": [],
   "source": [
    "id2label = model.config.id2label"
   ]
  },
  {
   "cell_type": "code",
   "execution_count": 46,
   "metadata": {},
   "outputs": [],
   "source": [
    "label2id = model.config.label2id"
   ]
  },
  {
   "cell_type": "code",
   "execution_count": 47,
   "metadata": {},
   "outputs": [
    {
     "data": {
      "text/plain": [
       "['id2label.json']"
      ]
     },
     "execution_count": 47,
     "metadata": {},
     "output_type": "execute_result"
    }
   ],
   "source": [
    "joblib.dump(id2label,\"id2label.json\")"
   ]
  },
  {
   "cell_type": "code",
   "execution_count": 48,
   "metadata": {},
   "outputs": [
    {
     "data": {
      "text/plain": [
       "{0: 'CHEWING GUMS',\n",
       " 1: 'CONFISERIES DE CHOCOLAT',\n",
       " 2: 'BONBONS, SUCETTES ET CONFISERIE DE SUCRE',\n",
       " 3: 'BEERS',\n",
       " 4: 'WHISKY',\n",
       " 5: 'BISCUITS SECS',\n",
       " 6: 'BARRES CEREALIERES',\n",
       " 7: 'FRUITS SECS',\n",
       " 8: 'CONFITURES',\n",
       " 9: \"GATEAUX, ROULES, PAINS D'EPICES ET NONNETTES\",\n",
       " 10: 'GOUTERS',\n",
       " 11: 'CEREALES',\n",
       " 12: 'BISCUITS SALES',\n",
       " 13: 'MOUCHOIRS EN PAPIER',\n",
       " 14: 'PATES A TARTINER',\n",
       " 15: 'FRESH DESSERTS',\n",
       " 16: 'APRES SHAMPOOINGS ET SOINS',\n",
       " 17: 'SHAMPOOINGS',\n",
       " 18: 'NON DAIRY DRINKS AND CREAMS',\n",
       " 19: 'MIELS',\n",
       " 20: 'COOKIES',\n",
       " 21: 'EXTRUDES ET TUILES',\n",
       " 22: 'COFFRET DE TOILETTE',\n",
       " 23: 'SAVONS DE TOILETTE ET PAINS DERMATOLOGIQUES',\n",
       " 24: 'CREMES DE MARRONS',\n",
       " 25: 'COMPOTES APPERTISEES ET FRAICHES',\n",
       " 26: 'RHUMS',\n",
       " 27: 'AIDE A LA PATISSERIE',\n",
       " 28: 'VIENNOISERIES',\n",
       " 29: 'CHANGES ET COUCHES CULOTTES',\n",
       " 30: 'BISCUITS PATISSIERS',\n",
       " 31: 'BISCUITS CHOCOLAT ET FRUITS',\n",
       " 32: 'PRODUITS DEPILATOIRES',\n",
       " 33: 'HYGIENE BUCCALE ET BAINS DE BOUCHE',\n",
       " 34: 'EPILATEURS, LUMIERE PULSEE ETC',\n",
       " 35: 'TOASTS GALETTES ET CRACKERS',\n",
       " 36: 'DESODORISANTS',\n",
       " 37: 'BULK ICE CREAM AND SORBETS',\n",
       " 38: 'NETTOYANTS MENAGERS',\n",
       " 39: 'LESSIVES GENERALISTES',\n",
       " 40: 'PRODUIT VAISSELLE MAIN',\n",
       " 41: 'FLAVORED YOGHURTS',\n",
       " 42: 'BLOND BEERS',\n",
       " 43: 'BROWN BEERS',\n",
       " 44: \"SIROPS D'ERABLE ET ASSIMILES\",\n",
       " 45: 'TAMPONS',\n",
       " 46: 'SERVIETTES ET PROTEGES SLIPS',\n",
       " 47: \"PRODUIT D'INCONTINENCE\",\n",
       " 48: 'TOILETTE INTIME',\n",
       " 49: 'PRODUIT WC, BLOCS, GELS',\n",
       " 50: 'ENTRETIEN BOIS ET MEUBLES',\n",
       " 51: 'PAINS GRILLES ET BRAISES',\n",
       " 52: 'JUS DE FRUITS',\n",
       " 53: 'SAUCISSERIE ET CHARCUTERIE TRANCHEE',\n",
       " 54: 'PATES ET RILLETTES',\n",
       " 55: 'ALIMENTS BEBE',\n",
       " 56: 'SAVONS DE MENAGE',\n",
       " 57: 'GINS/VODKAS/TEQUILAS',\n",
       " 58: 'VINAIGRES',\n",
       " 59: 'DENTIFRICE',\n",
       " 60: 'LAITS INFANTILES',\n",
       " 61: 'LESSIVES SPECIALISTES',\n",
       " 62: 'JAMBON CUIT, EPAULE ET ROTIS',\n",
       " 63: 'BISCUITS PETIT DEJEUNER',\n",
       " 64: 'SAUCISSES ET BROCHETTES',\n",
       " 65: 'CANARD',\n",
       " 66: 'PLATS CUISINES FRAIS',\n",
       " 67: 'PLAIN YOGHURTS',\n",
       " 68: 'COTTAGE CHEESE',\n",
       " 69: 'MADELEINES, BROWNIES, MUFFINS',\n",
       " 70: 'COTONS ET COTONS TIGES',\n",
       " 71: 'TABLETTES DE CHOCOLAT',\n",
       " 72: 'INSECTICIDES',\n",
       " 73: 'JAMBON CRU',\n",
       " 74: 'LARDONS ET DES',\n",
       " 75: 'SAUCES CHAUDES, FROIDES ET DESHYDRATEES',\n",
       " 76: 'VIANDE HACHEE',\n",
       " 77: 'NETTOYANTS VITRES',\n",
       " 78: 'HYGIENE ET SOINS POUR BEBE',\n",
       " 79: 'BROSSE, CHIFFON, LINGETTES',\n",
       " 80: 'BALAIS, PLUMEAUX',\n",
       " 81: 'PRODUITS ENTRETIEN ET GROS TRAVAUX',\n",
       " 82: \"ADOUCISSEUR D'EAU/DETARTRANT\",\n",
       " 83: 'LAMES ET RASOIRS',\n",
       " 84: 'GELS DOUCHE',\n",
       " 85: 'PAPIERS TOILETTE',\n",
       " 86: 'ESSUIE-TOUT',\n",
       " 87: 'JAMBONS CUITS DE VOLAILLES',\n",
       " 88: 'POULET',\n",
       " 89: 'LOW ALCOHOL BEERS',\n",
       " 90: 'FLAVOURED BEERS',\n",
       " 91: 'WHEAT BEERS',\n",
       " 92: 'ALCOHOL FREE BEERS',\n",
       " 93: 'DEBOUCHEUR ET PRODUITS FOSSES SEPTIQUE',\n",
       " 94: 'COLORATION',\n",
       " 95: 'TARTINABLES CONSERVES',\n",
       " 96: 'ASSOUPLISSANTS ET SOIN DU LINGE',\n",
       " 97: 'GRAINES ET AUTRES FRUITS SECS',\n",
       " 98: 'CHIPS',\n",
       " 99: 'AMANDES',\n",
       " 100: 'NOIX',\n",
       " 101: 'REGIME ET SUBSTITUTS',\n",
       " 102: 'MILK',\n",
       " 103: 'CREPES, GAUFFRES',\n",
       " 104: 'TARTES, FAR',\n",
       " 105: 'PNEUS AUTO',\n",
       " 106: 'PNEUS SUV ET 4X4',\n",
       " 107: 'PNEUS CAMIONNETTES',\n",
       " 108: 'EPICES HERBES ET MELANGES',\n",
       " 109: 'JAVEL',\n",
       " 110: 'BISCOTTES ET EXTRUDES',\n",
       " 111: 'VIANDE PORCINE',\n",
       " 112: 'CREPES GALETTES',\n",
       " 113: 'LAPINS ET AUTRES GIBIERS',\n",
       " 114: 'LAQUES ET PRODUITS COIFFANTS',\n",
       " 115: 'ENTRETIEN CUIR PVC ET TOILE',\n",
       " 116: 'FARINES',\n",
       " 117: 'ADHESIFS BANDAGES ET 1ER SOINS',\n",
       " 118: 'INDIVIDUAL SPECIALTIES ICE CREAM',\n",
       " 119: 'DINDE',\n",
       " 120: 'ENTRETIEN FOURS GRILLS ET PLAQUES',\n",
       " 121: 'ROAD CYCLE TYRES',\n",
       " 122: 'MTB CYCLE TYRES',\n",
       " 123: 'TUBE',\n",
       " 124: 'TUBULAR TYRE',\n",
       " 125: 'PRODUITS POUR METAUX',\n",
       " 126: 'LOTS MIXTES HYGIENE BEAUTE',\n",
       " 127: 'SOINS DU CORPS',\n",
       " 128: 'LEGUMES SECS',\n",
       " 129: 'GATEAUX FROMAGERS ET TOURTEAUX',\n",
       " 130: 'PATES MOLLES',\n",
       " 131: 'DESSERTS A PREPARER',\n",
       " 132: 'PLATS CUISINES SURGELES',\n",
       " 133: 'ACCESSOIRES PUERICULTURE',\n",
       " 134: \"SEMOULES ET CEREALES D'ACCOMPAGNEMENT\",\n",
       " 135: 'BROSSES A DENTS ELECTRIQUES',\n",
       " 136: 'CIDERS',\n",
       " 137: 'BOISSONS ENERGETIQUES',\n",
       " 138: 'OLIVES',\n",
       " 139: 'BOULANGERIE ET PAINS PRE-EMBALLES',\n",
       " 140: 'PATES PRESSEES CUITES',\n",
       " 141: 'ACCESSOIRES HYGIENE DENTAIRE',\n",
       " 142: 'BROSSES A DENTS',\n",
       " 143: 'CONSERVES DE PATES',\n",
       " 144: 'LEVURES ET SUCRES AROMATISES',\n",
       " 145: 'FROMAGES DE CHEVRE ET BREBIS',\n",
       " 146: 'FROMAGES A TARTINER, ENFANTS',\n",
       " 147: 'FRESH AND UHT CREAMS',\n",
       " 148: 'SOINS DU VISAGE',\n",
       " 149: 'TOILETTE DU VISAGE',\n",
       " 150: 'SOINS DES MAINS ET LEVRES',\n",
       " 151: 'MAQUILLAGE',\n",
       " 152: 'ONGLES',\n",
       " 153: 'YEUX ET SOURCILS',\n",
       " 154: 'PRODUITS SOLAIRES',\n",
       " 155: 'LEVRES',\n",
       " 156: 'TEINT',\n",
       " 157: 'MOUTARDES ET PICALLILI',\n",
       " 158: 'PATES PERSILLEES',\n",
       " 159: 'CORNICHONS',\n",
       " 160: 'ACCESSOIRES DE TOILETTE',\n",
       " 161: 'LEGUMES MARINES',\n",
       " 162: \"LEGUMES D'ACCOMPAGNEMENT ET DE SALADE APPERTISES\",\n",
       " 163: 'SODAS ET BAF GAZEUSES',\n",
       " 164: 'MARGARINES',\n",
       " 165: 'DEODORANT',\n",
       " 166: 'PRODUITS RASAGE',\n",
       " 167: 'ALIMENTS HUMIDES POUR CHATS',\n",
       " 168: 'BOISSONS AUX FRUITS PLATES',\n",
       " 169: 'SAUCES VINAIGRETTES',\n",
       " 170: 'KETCHUPS',\n",
       " 171: 'ALIMENTS SECS POUR CHATS',\n",
       " 172: 'AIDES CULINAIRES ET CROUTONS',\n",
       " 173: 'ENTREES APPERTISEES',\n",
       " 174: 'BOISSONS A BASE DE THE',\n",
       " 175: 'COLAS',\n",
       " 176: 'LIMONADES TONICS LIMES',\n",
       " 177: 'CONSERVES AUTRES PRODUITS DE LA MER',\n",
       " 178: 'CONSERVES DE TOMATES',\n",
       " 179: 'EAUX PLATES NATURES',\n",
       " 180: 'EAUX GAZEUSES NATURES',\n",
       " 181: 'FROMAGES MEDITERRANEENS',\n",
       " 182: 'HUILES',\n",
       " 183: 'FRUITS AU SIROP',\n",
       " 184: 'PATES FRAICHES',\n",
       " 185: 'MAYONNAISES',\n",
       " 186: 'DETACHANTS',\n",
       " 187: 'KIWIS',\n",
       " 188: 'EDULCORANTS ET SUBSTITUTS DE SUCRE',\n",
       " 189: 'ALIMENTS SECS POUR CHIENS',\n",
       " 190: 'PATES ALIMENTAIRES',\n",
       " 191: 'COMPLEMENTS ALIMENTAIRES',\n",
       " 192: 'ACCESSOIRES ET LUBRIFIANTS',\n",
       " 193: 'SOUPES ET POTAGES',\n",
       " 194: 'PIZZAS SURGELEES',\n",
       " 195: 'ENTREES SURGELEES',\n",
       " 196: 'VIANDES SURGELEES',\n",
       " 197: 'RIZ',\n",
       " 198: 'ALIMENTS HUMIDES POUR CHIENS',\n",
       " 199: 'THES',\n",
       " 200: 'INFUSIONS',\n",
       " 201: 'POISSONS ET FRUITS DE MER SURGELES',\n",
       " 202: 'PREPARATION BOISSONS CHOCOLATEES',\n",
       " 203: 'AMER/GENTIANE/BITTER/AMERICANO',\n",
       " 204: 'PLATS CUISINES DESHYDRATES',\n",
       " 205: 'DISSOLVANTS',\n",
       " 206: 'CHAMPAGNE',\n",
       " 207: \"EAU DE VIE ET FRUITS A L'ALCOOL\",\n",
       " 208: 'EGGS',\n",
       " 209: 'EAUX AROMATISEES',\n",
       " 210: 'LIQUEUR ET CREME',\n",
       " 211: 'ACCESSOIRES POUR CHEVEUX',\n",
       " 212: 'FRUITS ROUGES',\n",
       " 213: 'CAFES DOSETTES',\n",
       " 214: 'FILTRES A CAFE',\n",
       " 215: 'BARQUETTES, SACHETS ALIMENTAIRES ET EMBALLAGES ROULEAUX',\n",
       " 216: 'SACS POUBELLES',\n",
       " 217: 'POMMES DE TERRE',\n",
       " 218: 'FRUITS EXOTIQUES',\n",
       " 219: 'CHOUX POIREAUX NAVETS CELERIS',\n",
       " 220: 'AGRUMES',\n",
       " 221: 'BANANES',\n",
       " 222: 'CHATAIGNES',\n",
       " 223: 'MELONS, PASTEQUES',\n",
       " 224: 'NECTARINES, BRUGNONS, PECHES',\n",
       " 225: 'POMMES, POIRES',\n",
       " 226: 'ABRICOTS, CERISES ET PRUNES',\n",
       " 227: 'RAISIN',\n",
       " 228: 'AUBERGINES, COURGETTES, POIVRONS',\n",
       " 229: 'SALADES',\n",
       " 230: 'TOMATES',\n",
       " 231: 'LEGUMES EXOTIQUES',\n",
       " 232: 'FILETS, PAVES DE POISSON',\n",
       " 233: 'COQUILLAGES & CRUSTACES',\n",
       " 234: 'ARTICHAUTS',\n",
       " 235: 'CONCOMBRES AVOCATS RADIS BETTERAVES',\n",
       " 236: 'POTIRONS, COURGES ET LEGUMES ANCIENS',\n",
       " 237: 'AIL OIGNONS ECHALOTES',\n",
       " 238: 'HERBES AROMATIQUES FRAICHES',\n",
       " 239: 'CHAMPIGNONS',\n",
       " 240: 'ASPERGES',\n",
       " 241: 'ENDIVES',\n",
       " 242: 'LAITS INDUSTRIELS',\n",
       " 243: 'LINGETTES ET RINCES DOIGTS',\n",
       " 244: 'PANES, NUGGETS, GRIGNOTTES',\n",
       " 245: 'EPONGES ET TAMPONS A RECURER',\n",
       " 246: 'PRODUIT ENTRETIEN LAVE VAISSELLE',\n",
       " 247: 'PRODUIT DE LAVAGE LAVE VAISSELLE',\n",
       " 248: 'VERMOUTH',\n",
       " 249: 'PUNCH ET COCKTAIL',\n",
       " 250: 'SIROP DE SUCRE DE CANNE',\n",
       " 251: 'VINS DOUX NATURELS / MUSCATS / PINEAUX',\n",
       " 252: 'VINS EFFERVESCENTS',\n",
       " 253: 'SANGRIA ET APERITIFS BASE VIN',\n",
       " 254: 'CHAMPIGNONS EN CONSERVES',\n",
       " 255: 'PORTO MADERE XERES',\n",
       " 256: 'APERITIFS ANISES',\n",
       " 257: 'SIROPS ET CONCENTRES POUR BOISSONS',\n",
       " 258: 'SOLUBLES',\n",
       " 259: 'CAFES TORREFIES',\n",
       " 260: 'PRODUITS POUR LE BAIN',\n",
       " 261: 'PETITS POIS, CAROTTES EN CONSERVES',\n",
       " 262: 'HARICOTS VERTS EN CONSERVES',\n",
       " 263: 'FLAGEOLETS EN CONSERVES',\n",
       " 264: 'MAIS DOUX EN CONSERVES',\n",
       " 265: 'SALADES CONSERVES PRODUITS DE LA MER',\n",
       " 266: 'PLATS CUISINES APPERTISES',\n",
       " 267: 'ASPERGES EN CONSERVES',\n",
       " 268: 'GRAISSES A FRIRE',\n",
       " 269: 'FOIES GRAS FRAIS',\n",
       " 270: 'CONSERVES DE SARDINES',\n",
       " 271: 'CONSERVES DE MAQUEREAUX',\n",
       " 272: 'CONSERVES DE THON',\n",
       " 273: 'SALADES FRAICHES',\n",
       " 274: 'DESSERTS PRETS A CONSOMMER',\n",
       " 275: 'VINS AROMATISES',\n",
       " 276: 'PATES PRESSEES NON CUITES',\n",
       " 277: 'COGNAC ARMAGNAC CALVADOS',\n",
       " 278: 'SUCRES',\n",
       " 279: 'PAIN DE MIE',\n",
       " 280: 'ACCESSOIRES',\n",
       " 281: 'FROMAGES RAPES, TRANCHES, DES, SANDWICHES, APERITIFS',\n",
       " 282: 'LEGUMES SURGELES',\n",
       " 283: 'FOIES GRAS APPERTISES',\n",
       " 284: 'POISSONS FUMES',\n",
       " 285: 'QUICHE/TARTE SALEE/TOURTE RF',\n",
       " 286: 'POIVRES ET SELS',\n",
       " 287: 'PUREES POMMES DE TERRE DESHYDRATEES',\n",
       " 288: 'VIANDE BOVINE',\n",
       " 289: 'VIN BLANC',\n",
       " 290: 'CORNED BEEF ET ESCARGOTS BOITE',\n",
       " 291: 'TEINTURES TEXTILES',\n",
       " 292: 'VIN ROUGE',\n",
       " 293: 'PATES MENAGERES',\n",
       " 294: 'SOINS ANTI-BACTERIENS VISAGE',\n",
       " 295: 'ENTRETIEN TAPIS MOQUETTE AMEUBLEMENT',\n",
       " 296: 'ACCESSOIRE LUSTRANT CHAUSSURES',\n",
       " 297: 'HYGIENE SEXUELLE',\n",
       " 298: 'PRESERVATIFS',\n",
       " 299: 'SEMELLES',\n",
       " 300: 'SAUCES HERBES INFUS. SURGELES',\n",
       " 301: 'FROZEN DESSERTS',\n",
       " 302: 'GANTS DE MENAGE',\n",
       " 303: 'CAROTTES',\n",
       " 304: 'VIN ROSE',\n",
       " 305: 'ABRICOTS SECS',\n",
       " 306: 'DATTES',\n",
       " 307: 'PRUNEAUX',\n",
       " 308: 'NOISETTES',\n",
       " 309: 'SURIMI',\n",
       " 310: 'JUS DE LEGUMES',\n",
       " 311: 'BEURRES',\n",
       " 312: 'PIZZAS RF',\n",
       " 313: 'PREMIX',\n",
       " 314: 'PINTADES',\n",
       " 315: 'OPTIQUE ET AUDITION',\n",
       " 316: 'RAISINS SECS',\n",
       " 317: 'FIGUES',\n",
       " 318: 'SANDWICH SNACK CROQUES',\n",
       " 319: 'POMMES DE TERRE SURGELEES',\n",
       " 320: 'PAINS SUEDOIS',\n",
       " 321: 'SPECIALTIES ICE CREAM TO SHARE',\n",
       " 322: 'VIANDE OVINE',\n",
       " 323: 'HARICOTS ET POIS',\n",
       " 324: 'FRUITS FRAIS DECOUPES',\n",
       " 325: 'EPINARDS',\n",
       " 326: 'BARRES, GELS ET BOISSONS',\n",
       " 327: 'PROTEINE VEGETALE ET CONSTRUCTION MUSCULAIRE',\n",
       " 328: 'DOULEURS MUSCULAIRES ET ARTICULAIRES, CONFORT DES JAMBES',\n",
       " 329: 'MAINTIEN ET CONTENTION',\n",
       " 330: 'MAUX DU QUOTIDIEN',\n",
       " 331: 'POISSONS PANES',\n",
       " 332: 'TESTS ET APPAREILS DE MESURE',\n",
       " 333: 'PILES'}"
      ]
     },
     "execution_count": 48,
     "metadata": {},
     "output_type": "execute_result"
    }
   ],
   "source": [
    "joblib.load(\"id2label.json\")"
   ]
  },
  {
   "cell_type": "code",
   "execution_count": 49,
   "metadata": {},
   "outputs": [
    {
     "data": {
      "text/plain": [
       "['label2id.json']"
      ]
     },
     "execution_count": 49,
     "metadata": {},
     "output_type": "execute_result"
    }
   ],
   "source": [
    "joblib.dump(label2id,\"label2id.json\")"
   ]
  },
  {
   "cell_type": "code",
   "execution_count": null,
   "metadata": {},
   "outputs": [],
   "source": []
  }
 ],
 "metadata": {
  "kernelspec": {
   "display_name": "Python 3",
   "language": "python",
   "name": "python3"
  },
  "language_info": {
   "codemirror_mode": {
    "name": "ipython",
    "version": 3
   },
   "file_extension": ".py",
   "mimetype": "text/x-python",
   "name": "python",
   "nbconvert_exporter": "python",
   "pygments_lexer": "ipython3",
   "version": "3.7.3"
  }
 },
 "nbformat": 4,
 "nbformat_minor": 2
}
